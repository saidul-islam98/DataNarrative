{
  "cells": [
    {
      "cell_type": "code",
      "source": [
        "from google.colab import drive\n",
        "drive.mount('/content/drive')"
      ],
      "metadata": {
        "colab": {
          "base_uri": "https://localhost:8080/"
        },
        "outputId": "4d2855be-0350-46f8-f537-e5de01ea5bc6",
        "id": "mMqlQ1OwL9B3"
      },
      "execution_count": null,
      "outputs": [
        {
          "output_type": "stream",
          "name": "stdout",
          "text": [
            "Mounted at /content/drive\n"
          ]
        }
      ]
    },
    {
      "cell_type": "code",
      "source": [
        "import os\n",
        "import numpy as np\n",
        "import pandas as pd\n",
        "import matplotlib.pyplot as plt\n",
        "import json\n",
        "from PIL import Image as PIL_Image\n",
        "from PIL import ImageOps as PIL_ImageOps\n",
        "import time\n",
        "from collections import Counter\n",
        "import re\n",
        "import seaborn as sns\n",
        "from getpass import getpass\n",
        "import warnings\n",
        "warnings.filterwarnings('ignore')\n",
        "%matplotlib inline"
      ],
      "metadata": {
        "id": "ORvj0f8KL9B5"
      },
      "execution_count": null,
      "outputs": []
    },
    {
      "cell_type": "code",
      "source": [
        "data_path = '/path/to/pew_test.json'\n",
        "images_data = '/path/to/pew_test_imgs'"
      ],
      "metadata": {
        "id": "gCkD17KH1mZs"
      },
      "execution_count": null,
      "outputs": []
    },
    {
      "cell_type": "code",
      "source": [
        "def json2pd(file_path):\n",
        "    with open(file_path) as f:\n",
        "        temp_data = [json.loads(line) for line in f]\n",
        "    df = pd.DataFrame(temp_data)\n",
        "    return df"
      ],
      "metadata": {
        "id": "ftv3HRBL3EG_"
      },
      "execution_count": null,
      "outputs": []
    },
    {
      "cell_type": "code",
      "source": [
        "images_list = os.listdir(images_data)\n",
        "images = [images_data + \"/\" + i for i in images_list]"
      ],
      "metadata": {
        "id": "5ECk-iFtilDe"
      },
      "execution_count": null,
      "outputs": []
    },
    {
      "cell_type": "code",
      "source": [
        "image_i_to_dict = {}\n",
        "for i in range(len(images)):\n",
        "    image_i_to_dict[images_list[i].split(\".\")[0]] = images[i]"
      ],
      "metadata": {
        "id": "D5vfNzx_ijPX"
      },
      "execution_count": null,
      "outputs": []
    },
    {
      "cell_type": "code",
      "source": [
        "test_df = json2pd(data_path)\n",
        "test_df.head()"
      ],
      "metadata": {
        "id": "7Ca7r5CJMC3c"
      },
      "execution_count": null,
      "outputs": []
    },
    {
      "cell_type": "code",
      "source": [
        "# Utility Function\n",
        "def generate_input_message(system_prompt, user_prompt):\n",
        "  messages = []\n",
        "  messages.append({\"role\": \"system\", \"content\": system_prompt})\n",
        "  messages.append({\"role\": \"user\", \"content\": user_prompt})\n",
        "\n",
        "  return messages"
      ],
      "metadata": {
        "id": "JsypHw_mlbJ9"
      },
      "execution_count": null,
      "outputs": []
    },
    {
      "cell_type": "markdown",
      "source": [
        "### **SYSTEM and USER Prompts**"
      ],
      "metadata": {
        "id": "rfLz3fYP8xaI"
      }
    },
    {
      "cell_type": "markdown",
      "source": [
        "### **Reflection**"
      ],
      "metadata": {
        "id": "O6u3SRk5oWOL"
      }
    },
    {
      "cell_type": "code",
      "source": [
        "############## REFLECTION PROMPTS#########################\n",
        "def initialize_reflection_prompt():\n",
        "  ## REFLECTION\n",
        "  # ======================================== $$Initial Reflection$$ ========================================================\n",
        "  initial_system_reflection_prompt = f'As an intelligent data analyst and insight extraction specialist, your role is to generate a ‘reflection’ from data tables that must cover every important detail that can be observed in the data tables. Pay attention to small details and nuances as well as any trends or outliers in the given tables.'\n",
        "  initial_user_reflection_prompt = f'''### Task Description:\n",
        "  Given the data tables corresponding to a data story in the input, your task is the following:\n",
        "  1. Generate a coherent ‘reflection’ on the data tables given in the input, in bullet points. Here, ‘reflection’ is defined as the systematic examination and interpretation of data tables to narrate a coherent story, involving a comprehensive understanding of the data structure, identification of key variables, analysis of data distribution and trends, and understanding of the data’s broader context.\n",
        "  2. Identify and discuss the most impactful insights from the data tables. Focus on elements that significantly influence the narrative or findings, such as critical trends, notable patterns, and significant outliers.\n",
        "  3. Determine the importance of details based on their relevance to the overall story, potential implications, and their statistical significance.\n",
        "  4. Explain how different attributes of the data tables are interconnected. Highlight any causal relationships, correlations, or patterns that emerge from the data.\n",
        "  5. Discuss any observed trends or outliers, explaining their potential implications or causes.\n",
        "\n",
        "  ### Additional Guidelines:\n",
        "  - The output must be in plain text and structured in bullet points.\n",
        "  - Generate the response ‘reflection’ in between two <reflection> tags.\n",
        "  '''\n",
        "\n",
        "  return initial_system_reflection_prompt, initial_user_reflection_prompt\n",
        "\n",
        "\n",
        "def reflection_verification_prompt():\n",
        "  # ======================================== $$Reflection Verification$$ ======================================================\n",
        "  system_reflection_verification_prompt = f'As an analytical critic, your role is to meticulously examine the alignment between data presented in tables and the narrative provided in a reflection. Focus on identifying any discrepancies in the details and the overall message conveyed. Consider not just the numbers but also the context and implications of the data.'\n",
        "  user_reflection_verification_prompt = '''### Task Description:\n",
        "  Given the data tables and a reflection corresponding to a data story in the input, your task is the following:\n",
        "  1. Carefully analyze the data tables and the reflection. Identify any discrepancies or inconsistencies, focusing on numerical data, contextual interpretations, and the reflection’s fidelity to the data. Discrepancies might include but are not limited to incorrect data interpretation, or overlooked details.\n",
        "  2. Prepare a plan to revise the reflection if needed, and output the revision plan. Otherwise just output: ‘No revision needed’.\n",
        "  3. The revision plan if needed must coherently and logically relate to the attributes of the data.\n",
        "  4. Be as specific as possible.\n",
        "\n",
        "  ### Additional Guidelines:\n",
        "  - The output must be in plain text and structured in bullet points.\n",
        "  - Generate the response ‘reflection’ in between two <reflection> tags.\n",
        "  '''\n",
        "\n",
        "  return system_reflection_verification_prompt, user_reflection_verification_prompt\n",
        "\n",
        "def reflection_revision_prompt():\n",
        "  # ======================================== $$Reflection Revision$$ ==========================================================\n",
        "  system_reflection_revision_prompt = f'As an intelligent data analyst and insight extraction specialist, your role is to generate a ‘reflection’ from data tables that must cover every important detail that can be observed in the data tables. Pay attention to small details and nuances as well as any trends or outliers in the given tables.'\n",
        "  user_reflection_revision_prompt = f'''### Task Description:\n",
        "  Given the data tables corresponding to a data story and a revision plan for reflection in the input, your task is the following:\n",
        "  1. Revise the reflection according to the revision plan. Pay attention to small details and nuances and any trends or outliers in the given tables.\n",
        "  2. The generated reflection must coherently and logically relate to the attributes of the data.\n",
        "  3. Be as specific as possible.\n",
        "\n",
        "  ### Additional Guidelines:\n",
        "  - The output must be in plain text and structured in bullet points.\n",
        "  - Generate the response ‘reflection’ in between two <reflection> tags.\n",
        "  '''\n",
        "\n",
        "  return system_reflection_revision_prompt, user_reflection_revision_prompt"
      ],
      "metadata": {
        "id": "PJaNIhnKn5-Q"
      },
      "execution_count": null,
      "outputs": []
    },
    {
      "cell_type": "markdown",
      "source": [
        "### **Outline**"
      ],
      "metadata": {
        "id": "tngjrAzxp3AG"
      }
    },
    {
      "cell_type": "code",
      "source": [
        "def initialize_outline_prompt(intention):\n",
        "  # ======================================== $$Initial Outline with Intent$$ ======================================================\n",
        "  initial_system_outline_prompt = f'You are an expert at generating outlines for data stories. The generated outline should cover every important detail that can be observed in the data tables. Pay attention to small details and nuances as well as any trends or outliers in the given tables.'\n",
        "  initial_user_outline_prompt = f'''### Task Description:\n",
        "  Given a reflection and the data tables corresponding to a data story in the input, you have the following tasks:\n",
        "  1. Generate an outline of the story following a linear narrative structure considering the reflection and the data presented in the tables. A linear narrative structure is defined as the narrative structure that contain a start, a middle, and an end. Think of it as setting the scene, unveiling the adventure, and wrapping up with a satisfying conclusion.\n",
        "  2. Each of the points in the outlinebreak it down into smaller points that spotlight specific aspects of the data. This could include: significant figures or patterns, noteworthy exceptions or deviations, comparisons or changes over time. Add instructions for visualizations, i.e., charts, where necessary.\n",
        "  3. The data story’s overarching theme should focus on \"{intention}\". Make sure this sentiment is consistent throughout the outline.\n",
        "  4. Remember, the essence of a compelling data story is not just in the numbers but in how you tell the tale, so inclusion of visualization instruction is of utmost importance.\n",
        "  5. Be specific, be clear, and most importantly, be engaging. The generated outline must coherently and logically relate to the attributes of the data. Be as specific as possible.\n",
        "\n",
        "  ### Additional Guidelines:\n",
        "  - The output must be in plain text and structured in bullet points.\n",
        "  - Generate the response outline in between two <outline> tags.\n",
        "  '''\n",
        "\n",
        "  return initial_system_outline_prompt, initial_user_outline_prompt\n",
        "\n",
        "\n",
        "\n",
        "def outline_verification_prompt(intention):\n",
        "  # ======================================== $$Outline Verification$$ =========================================================\n",
        "  system_outline_verification_prompt = f'You are an intelligent critic, whose job is to identify inconsistencies between data presented in data tables, and a reflection and an outline. Pay attention to small details and nuances as well as any trends or outliers in the given tables.'\n",
        "  user_outline_verification_prompt = f'''### Task Description:\n",
        "  Given the data tables, a reflection and an outline corresponding to a data story in the input, your task is the following:\n",
        "  1. Identify inconsistencies between the data presented in the tables, the reflection and the outline.\n",
        "  2. Make sure the revision plan is consistent with the intention or the main theme of the story: \"{intention}\"\n",
        "  3. Prepare a plan to revise the outline if needed, and output the revision plan. Otherwise just output: ‘No revision needed’.\n",
        "  4. The revision plan must coherently and logically relate to the attributes of the data. Be as specific as possible.\n",
        "\n",
        "  ### Additional Guidelines:\n",
        "  - The output must be in plain text and structured in bullet points.\n",
        "  - Generate the response outline in between two <outline> tags.\n",
        "  '''\n",
        "\n",
        "  return system_outline_verification_prompt, user_outline_verification_prompt\n",
        "\n",
        "def outline_revision_prompt(intention):\n",
        "  # ======================================== $$Outline Revision$$ =============================================================\n",
        "  system_outline_revision_prompt = f'You are an expert at generating outlines for data stories. The generated outline should cover every important detail that can be observed in the data tables. Pay attention to small details and nuances as well as any trends or outliers in the given tables.'\n",
        "  user_outline_revision_prompt = f'''### Task Description:\n",
        "  Given the data tables, the revision plan and the outline corresponding to a data story in the input, your task is the following:\n",
        "  1. Apply the changes suggested in the revision plan to the existing outline.\n",
        "  2. Ensure Theme Consistency: The data story’s overarching theme, defined as \"{intention}\", should be clearly reflected throughout the revised outline.\n",
        "  3. Adjust the narrative flow to keep this theme central to the story, ensuring that each section contributes meaningfully to the theme.\n",
        "  4. The revised outline should be detailed in plain text, with each bullet point clearly articulating the specific aspect of the data story it addresses.\n",
        "  5. Use sub-bullet points to elaborate on complex points or to incorporate multiple data insights.\n",
        "\n",
        "  ### Additional Guidelines:\n",
        "  - The output must be in plain text and structured in bullet points.\n",
        "  - Generate the response outline in between two <outline> tags.\n",
        "  '''\n",
        "  # ==================================================================================================================================\n",
        "\n",
        "  return system_outline_revision_prompt, user_outline_revision_prompt\n"
      ],
      "metadata": {
        "id": "Brd5Pt9bqJyU"
      },
      "execution_count": null,
      "outputs": []
    },
    {
      "cell_type": "markdown",
      "source": [
        "### **Narration**"
      ],
      "metadata": {
        "id": "5CTpdqoJtsNS"
      }
    },
    {
      "cell_type": "code",
      "source": [
        "def initialize_narration_prompt(intention):\n",
        "  # NARRATION\n",
        "  # ======================================== $$Initial Narration with Intent$$ ======================================================\n",
        "  initial_system_narration_prompt = f'You are an expert at generating engaging data stories. The generated data story should cover every important detail that can be observed in the data tables. Pay attention to small details and nuances as well as any trends or outliers in the given tables.'\n",
        "  initial_user_narration_prompt = f'''### Task Description:\n",
        "  Given a outline and the data tables corresponding to a data story in the input, you have the following tasks:\n",
        "  1. Follow the outline rigorously to create a \"data story\" that will be highly informative and engaging to the audience.\n",
        "  2. Highlight key statistics that are critical to understanding the theme. Explain these elements in a way that balances technical accuracy with accessibility, ensuring that your narrative is approachable for a non-specialist audience while still offering depth for those more familiar with the subject matter. Think about the narrative flow and how each piece of data contributes to the overall story arc.\n",
        "  3. The overarching theme, denoted as \"{intention}\", should be the narrative’s backbone. Ensure that this theme resonates throughout the story, tying together different data points and insights into a coherent whole.\n",
        "  4. In the outline, if it is mentioned to include a visualization, then include a ‘visualization placeholder’. Each visualization placeholder should also suggest a narrative element that the visualization supports or explains.\n",
        "  5. Ensure that each portion of text in the story is in between two <text> tags.\n",
        "  6. The visualization placeholder must contain necessary information about the visualization, such as:\n",
        "   - chart title\n",
        "   - chart type\n",
        "   - x-axis and y-axis labels\n",
        "   - x-axis data values and y-axis data values, etc.\n",
        "  7. The visualizations must be put in between two <visualization> tags.\n",
        "  8. Finally, make sure that the story is engaging to the audience.\n",
        "\n",
        "  ### Additional Guidelines:\n",
        "  - The output must be in plain text.\n",
        "  - Generate the response narration in between two <narration> tags.\n",
        "  '''\n",
        "\n",
        "  return initial_system_narration_prompt, initial_user_narration_prompt\n",
        "\n",
        "\n",
        "def narration_verification_prompt(intention):\n",
        "  # ======================================== $$Narration Verification with Intent$$ =====================================================\n",
        "  system_narration_verification_prompt = f'You are an intelligent critic, whose job is to identify inconsistencies between data presented in data tables, and an outline and a data story. Pay attention to small details and nuances as well as any trends or outliers in the given tables.'\n",
        "  user_narration_verification_prompt = f'''### Task Description:\n",
        "  Given the outline, the data tables and a data story in the input, you have the following tasks:\n",
        "  1. Examine the data presented in the tables, the story’s outline, and the narrative itself. Look for discrepancies, inaccuracies, or any details that do not align.\n",
        "  2. Provide a step-by-step analysis, highlighting specific data points and narrative elements that contribute to these inconsistencies.\n",
        "  3. Make sure the story fully aligns with the intention or the main theme: \"{intention}\"\n",
        "  4. Based on your analysis, draft a revision plan to refine the data story. Your plan should address identified inconsistencies and enhance theme alignment. Otherwise output: ‘No revision needed’.\n",
        "  5. The output must be coherent, logically structured, and detailed, aiming for constructive feedback that enhances the data story’s impact.\n",
        "\n",
        "  ### Additional Guidelines:\n",
        "  - The output must be in plain text and in bullet points.\n",
        "  - Generate the response narration in between two <narration> tags.\n",
        "  '''\n",
        "\n",
        "  return system_narration_verification_prompt, user_narration_verification_prompt\n",
        "\n",
        "def narration_revision_prompt(intention):\n",
        "  # ======================================== $$Narration Revision with Intent$$ =========================================================\n",
        "  system_narration_revision_prompt = f'You are an expert at generating engaging data stories. The generated data story will cover every important detail that can be observed in the data tables. Pay attention to small details and nuances as well as any trends or outliers in the given tables.'\n",
        "  user_narration_revision_prompt = f'''### Task Description:\n",
        "  Given the data tables, the outline, the revision plan, and the data story in the input, your task is the following:\n",
        "  1. Revise the data story according to the revision plan. Use the provided outline as your guide, adjusting the narrative according to the revision plan.\n",
        "  2. The overarching theme, denoted as \"{intention}\", should be the narrative’s backbone.\n",
        "  3. Ensure that this theme resonates throughout the story, tying together different data points and insights into a coherent whole.\n",
        "  4. In the outline, if it is mentioned to include a visualization, then include a ‘visualization placeholder’. Each visualization placeholder should also suggest a narrative element that the visualization supports or explains.\n",
        "  5. Ensure that each portion of text in the story is in between two <text> tags.\n",
        "  6. The visualization placeholder must contain necessary information about the visualization, such as:\n",
        "   - chart title\n",
        "   - chart type\n",
        "   - x-axis and y-axis labels\n",
        "   - x-axis data values and y-axis data values, etc.\n",
        "  7. The visualizations must be put in between two <visualization> tags.\n",
        "  8. Finally, make sure that the story is engaging to the audience.\n",
        "\n",
        "  ### Additional Guidelines:\n",
        "  - The output must be in plain text.\n",
        "  - Generate the response narration in between two <narration> tags.\n",
        "  '''\n",
        "  # =====================================================================================================================================\n",
        "\n",
        "  return system_narration_revision_prompt, user_narration_revision_prompt\n"
      ],
      "metadata": {
        "id": "HVeYG7lst5xO"
      },
      "execution_count": null,
      "outputs": []
    },
    {
      "cell_type": "markdown",
      "source": [
        "### **Multi-Agent LLM-Framework (GPT-Agent)**"
      ],
      "metadata": {
        "id": "79R5BErn9iHN"
      }
    },
    {
      "cell_type": "code",
      "source": [
        "!pip install scipy --quiet\n",
        "!pip install tenacity --quiet\n",
        "!pip install tiktoken --quiet\n",
        "!pip install termcolor --quiet\n",
        "!pip install openai --quiet"
      ],
      "metadata": {
        "id": "gG97KcnklUax"
      },
      "execution_count": null,
      "outputs": []
    },
    {
      "cell_type": "code",
      "source": [
        "os.environ[\"OPENAI_API_KEY\"] = os.getenv(\"OPENAI_API_KEY\") or getpass(\n",
        "    \"Enter OpenAI API Key: \"\n",
        ")\n",
        "\n",
        "openai_model = \"NAME_OF_GPT_MODEL\""
      ],
      "metadata": {
        "id": "4W_V2qbV_39a"
      },
      "execution_count": null,
      "outputs": []
    },
    {
      "cell_type": "code",
      "source": [
        "import json\n",
        "import openai\n",
        "from openai import OpenAI\n",
        "from tenacity import retry, wait_random_exponential, stop_after_attempt\n",
        "from termcolor import colored\n",
        "\n",
        "GPT_MODEL = \"gpt-4o\"\n",
        "client = OpenAI(api_key=openai_apikey)"
      ],
      "metadata": {
        "id": "eQEClIcu_8mD"
      },
      "execution_count": null,
      "outputs": []
    },
    {
      "cell_type": "code",
      "source": [
        "@retry(wait=wait_random_exponential(multiplier=1, max=40), stop=stop_after_attempt(3))\n",
        "def chat_completion_request(messages, tools=None, tool_choice=None, model=GPT_MODEL):\n",
        "    # print(model)\n",
        "    try:\n",
        "        response = client.chat.completions.create(\n",
        "            model=model,\n",
        "            messages=messages,\n",
        "            tools=tools,\n",
        "            tool_choice=tool_choice,\n",
        "            max_tokens=4096,\n",
        "        )\n",
        "        return response\n",
        "    # except Exception as e:\n",
        "    #     print(\"Unable to generate ChatCompletion response\")\n",
        "    #     print(f\"Exception: {e}\")\n",
        "    except openai.APIError as e:\n",
        "        #Handle API error here, e.g. retry or log\n",
        "        print(f\"OpenAI API returned an API Error: {e}\")\n",
        "    except openai.APIConnectionError as e:\n",
        "        #Handle connection error here\n",
        "        print(f\"Failed to connect to OpenAI API: {e}\")\n",
        "    except openai.RateLimitError as e:\n",
        "        #Handle rate limit error (we recommend using exponential backoff)\n",
        "        print(f\"OpenAI API request exceeded rate limit: {e}\")\n",
        "        return e"
      ],
      "metadata": {
        "id": "97BO9qtf_8jQ"
      },
      "execution_count": null,
      "outputs": []
    },
    {
      "cell_type": "markdown",
      "source": [
        "## **ACTOR - CRITIC Agent RUN Start!!!**"
      ],
      "metadata": {
        "id": "zHJNAkTfLfYo"
      }
    },
    {
      "cell_type": "code",
      "source": [
        "test_df['reflection'] = ''\n",
        "test_df['reflection_revision_plan'] = ''\n",
        "test_df['revised_reflection'] = ''\n",
        "test_df['outline_int'] = ''\n",
        "test_df['outline_int_revision_plan'] = ''\n",
        "test_df['revised_outline_int'] = ''\n",
        "test_df['outline_noint'] = ''\n",
        "test_df['outline_noint_revision_plan'] = ''\n",
        "test_df['revised_outline_noint'] = ''\n",
        "test_df['narration_int'] = ''\n",
        "test_df['narration_int_revision_plan'] = ''\n",
        "test_df['revised_narration_int'] = ''\n",
        "test_df['narration_noint'] = ''\n",
        "test_df['narration_noint_revision_plan'] = ''\n",
        "test_df['revised_narration_noint'] = ''"
      ],
      "metadata": {
        "id": "E3KBgqrYBHRf"
      },
      "execution_count": null,
      "outputs": []
    },
    {
      "cell_type": "code",
      "source": [
        "start = time.time()\n",
        "for i in range(len(test_df)):\n",
        "  intention = test_df.article_title.iloc[i]\n",
        "  res = test_df.paragraph_table_pair.iloc[i]\n",
        "  tables = ''\n",
        "  for x, item in enumerate(res):\n",
        "    tables += f'### Table_{x}:\\n{item[\"table\"]}\\n'\n",
        "\n",
        "  ## ---------------------------------------------------------------------------------------------------------------------\n",
        "  ## Step - 1: First Stage -- REFLECTION:::\n",
        "\n",
        "  initial_system_reflection_prompt, initial_user_reflection_prompt = initialize_reflection_prompt()\n",
        "  system_reflection_verification_prompt, user_reflection_verification_prompt = reflection_verification_prompt()\n",
        "  system_reflection_revision_prompt, user_reflection_revision_prompt = reflection_revision_prompt()\n",
        "\n",
        "  ## GPT-4o call for generate initial reflection\n",
        "  final_initial_reflection_prompt = f'''{initial_user_reflection_prompt}\\n### INPUT:\\n### Tables:\\n{tables}\\n### OUTPUT:'''\n",
        "\n",
        "  # print(f'Initial system reflection prompt:\\n{initial_system_reflection_prompt}\\n\\nInitial user reflection prompt:\\n{initial_user_reflection_prompt}')\n",
        "  # print(f'Final prompt for initial reflection:\\n{final_initial_reflection_prompt}')\n",
        "  messages = generate_input_message(initial_system_reflection_prompt, final_initial_reflection_prompt)\n",
        "  chat_response = chat_completion_request(\n",
        "      messages, model=GPT_MODEL\n",
        "  )\n",
        "\n",
        "  try:\n",
        "    reflection = chat_response.choices[0].message.content\n",
        "    test_df['reflection'].iloc[i] = reflection\n",
        "  except:\n",
        "    reflection = 'Error'\n",
        "    test_df['reflection'].iloc[i] = reflection\n",
        "    continue\n",
        "\n",
        "  # print(f'Reflection:\\n{reflection}')\n",
        "  # print('-'*60, '\\n\\n')\n",
        "  ## ---------------------------------------------------------------------------------------------------------------------\n",
        "\n",
        "  ## ---------------------------------------------------------------------------------------------------------------------\n",
        "  ## GPT-4o call for generate reflection verification\n",
        "  final_reflection_verification_prompt = f'''{user_reflection_verification_prompt}\\n### INPUT:\\n### Tables:\\n{tables}\\n### Reflection:\\n{reflection}\\n### OUTPUT:'''\n",
        "\n",
        "  # print(f'Initial system reflection verification prompt:\\n{system_reflection_verification_prompt}\\n\\nInitial user reflection verification prompt:\\n{user_reflection_verification_prompt}')\n",
        "  # print(f'Final prompt for initial reflection verification: \\n{final_reflection_verification_prompt}')\n",
        "  messages = generate_input_message(system_reflection_verification_prompt, final_reflection_verification_prompt)\n",
        "  chat_response = chat_completion_request(\n",
        "      messages, model=GPT_MODEL\n",
        "  )\n",
        "\n",
        "  try:\n",
        "    reflection_revision_plan = chat_response.choices[0].message.content\n",
        "    test_df['reflection_revision_plan'].iloc[i] = reflection_revision_plan\n",
        "  except:\n",
        "    reflection_revision_plan = 'Error'\n",
        "    test_df['reflection_revision_plan'].iloc[i] = reflection_revision_plan\n",
        "    continue\n",
        "\n",
        "  # print(f'Reflection revision plan:\\n{reflection_revision_plan}')\n",
        "  # print('-'*60, '\\n\\n')\n",
        "  ## ---------------------------------------------------------------------------------------------------------------------\n",
        "\n",
        "  ## ---------------------------------------------------------------------------------------------------------------------\n",
        "  ## GPT-4o call for generate revised reflection\n",
        "  final_reflection_revision_prompt = f'''{user_reflection_revision_prompt}\\n### INPUT:\\n### Tables:\\n{tables}\\n### Previous Reflection:\\n{reflection}\\n### Revision Plan:\\n{reflection_revision_plan}\\n### OUTPUT:'''\n",
        "\n",
        "  # print(f'Initial system reflection revision prompt:\\n{system_reflection_revision_prompt}\\n\\nInitial user reflection revision prompt:\\n{user_reflection_revision_prompt}')\n",
        "  # print(f'Final prompt for initial reflection revision:\\n{final_reflection_revision_prompt}')\n",
        "\n",
        "  messages = generate_input_message(system_reflection_revision_prompt, final_reflection_revision_prompt)\n",
        "  chat_response = chat_completion_request(\n",
        "      messages, model=GPT_MODEL\n",
        "  )\n",
        "\n",
        "  try:\n",
        "    final_reflection = chat_response.choices[0].message.content\n",
        "    test_df['revised_reflection'].iloc[i] = final_reflection\n",
        "  except:\n",
        "    reflection_revision_plan = 'Error'\n",
        "    test_df['revised_reflection'].iloc[i] = final_reflection\n",
        "    continue\n",
        "\n",
        "  # print(f'Final Reflection:\\n{final_reflection}')\n",
        "  # print('-'*60, '\\n\\n')\n",
        "  ## xxxxxxxxxxxxxxxxxxxxxxxxxxxxxxxxxxxxxxxxxxxxxxxxxxxxxxxxxxxxxxxxxxxxxxxxxxxxxxxxxxxxxxxxxxxxxxxxxxxxxxxxxxxxxxxxxxxxx\n",
        "\n",
        "\n",
        "  ## Step - 2.1: Second Stage -- OUTLINE GENERATION:::\n",
        "\n",
        "  initial_system_outline_prompt_int, initial_user_outline_prompt_int = initialize_outline_prompt(intention)\n",
        "  system_outline_verification_prompt_int, user_outline_verification_prompt_int =  outline_verification_prompt(intention)\n",
        "  system_outline_revision_prompt_int, user_outline_revision_prompt_int = outline_revision_prompt(intention)\n",
        "\n",
        "\n",
        "  ## ---------------------------------------------------------------------------------------------------------------------\n",
        "  ## GPT-4o call for generate initial outline\n",
        "  final_outint_prompt = f'''{initial_user_outline_prompt_int}\\n### INPUT:\\n### Tables:\\n{tables}\\n### Reflection:\\n{reflection}\\n### OUTPUT:'''\n",
        "\n",
        "  # print(f'Initial system outline prompt:\\n{initial_system_outline_prompt_int}\\n\\nInitial user outline prompt:\\n{initial_user_outline_prompt_int}')\n",
        "  # print(f'Final prompt for initial outline with intention:\\n{final_outint_prompt}')\n",
        "\n",
        "  messages = generate_input_message(initial_system_outline_prompt_int, final_outint_prompt)\n",
        "  chat_response = chat_completion_request(\n",
        "      messages, model=GPT_MODEL\n",
        "  )\n",
        "\n",
        "  try:\n",
        "    outline_int = chat_response.choices[0].message.content\n",
        "    test_df['outline_int'].iloc[i] = outline_int\n",
        "  except:\n",
        "    outline_int = 'Error'\n",
        "    test_df['outline_int'].iloc[i] = outline_int\n",
        "    continue\n",
        "\n",
        "  # print(f'Outline with intention:\\n{outline_int}')\n",
        "  # print('-'*60, '\\n\\n')\n",
        "\n",
        "  ## ---------------------------------------------------------------------------------------------------------------------\n",
        "\n",
        "  ## ---------------------------------------------------------------------------------------------------------------------\n",
        "  ## GPT-4o call for generate outline revision plan\n",
        "  final_outint_ver_prompt = f'''{user_outline_verification_prompt_int}\\n### INPUT:\\n### Tables:\\n{tables}\\n### Reflection:\\n{reflection}\\n### Outline:\\n{outline_int}\\n### OUTPUT:'''\n",
        "\n",
        "  # print(f'Initial system outline prompt:\\n{system_outline_verification_prompt_int}\\n\\nInitial user outline prompt:\\n{initial_user_outline_prompt_int}')\n",
        "  # print(f'Final prompt for initial outline with intention:\\n{final_outint_ver_prompt}')\n",
        "\n",
        "  messages = generate_input_message(system_outline_verification_prompt_int, final_outint_ver_prompt)\n",
        "  chat_response = chat_completion_request(\n",
        "      messages, model=GPT_MODEL\n",
        "  )\n",
        "\n",
        "  try:\n",
        "    outline_int_revision_plan = chat_response.choices[0].message.content\n",
        "    test_df['outline_int_revision_plan'].iloc[i] = outline_int_revision_plan\n",
        "  except:\n",
        "    outline_int_revision_plan = 'Error'\n",
        "    test_df['outline_int_revision_plan'].iloc[i] = outline_int_revision_plan\n",
        "    continue\n",
        "\n",
        "  # print(f'Outline with intention revision plan:\\n{outline_int_revision_plan}')\n",
        "  # print('-'*60, '\\n\\n')\n",
        "  ## ---------------------------------------------------------------------------------------------------------------------\n",
        "\n",
        "  ## ---------------------------------------------------------------------------------------------------------------------\n",
        "  ## GPT-4o call for generate revised outline\n",
        "  final_outint_rev_prompt = f'''{user_outline_revision_prompt_int}\\n### INPUT:\\n### Tables:\\n{tables}\\n### Previous Outline:\\n{outline_int}\\n### Revision Plan:\\n{outline_int_revision_plan}\\n### OUTPUT:'''\n",
        "\n",
        "  # print(f'Initial system outline revision plan prompt:\\n{system_outline_revision_prompt_int}\\n\\nInitial user outline revision plan prompt:\\n{initial_user_outline_prompt_int}')\n",
        "  # print(f'Final prompt for outline revision plan with intention: \\n{final_outint_rev_prompt}')\n",
        "\n",
        "  messages = generate_input_message(system_outline_revision_prompt_int, final_outint_rev_prompt)\n",
        "  chat_response = chat_completion_request(\n",
        "      messages, model=GPT_MODEL\n",
        "  )\n",
        "\n",
        "  try:\n",
        "    final_outline_int = chat_response.choices[0].message.content\n",
        "    test_df['revised_outline_int'].iloc[i] = final_outline_int\n",
        "  except:\n",
        "    final_outline_int = 'Error'\n",
        "    test_df['revised_outline_int'].iloc[i] = final_outline_int\n",
        "    continue\n",
        "\n",
        "  # print(f'Outline with intention revision:\\n{final_outline_int}')\n",
        "  # print('-'*60, '\\n\\n')\n",
        "  ## ---------------------------------------------------------------------------------------------------------------------\n",
        "  ## xxxxxxxxxxxxxxxxxxxxxxxxxxxxxxxxxxxxxxxxxxxxxxxxxxxxxxxxxxxxxxxxxxxxxxxxxxxxxxxxxxxxxxxxxxxxxxxxxxxxxxxxxxxxxxxxxxxxx\n",
        "\n",
        "\n",
        "  ## Step - 3.1: Third Stage -- NARRATION GENERATION:::\n",
        "\n",
        "  initial_system_narration_prompt_int, initial_user_narration_prompt_int = initialize_narration_prompt(intention)\n",
        "  system_narration_verification_prompt_int, user_narration_verification_prompt_int = narration_verification_prompt(intention)\n",
        "  system_narration_revision_prompt_int, user_narration_revision_prompt_int = narration_revision_prompt(intention)\n",
        "\n",
        "  ## ---------------------------------------------------------------------------------------------------------------------\n",
        "  ## GPT-4o call for generate initial narration\n",
        "  final_narrint_prompt = f'''{initial_user_narration_prompt_int}\\n### INPUT:\\n### Tables:\\n{tables}\\n### Outline:\\n{final_outline_int}\\n### OUTPUT:'''\n",
        "\n",
        "  # print(f'Initial system narration int prompt:\\n{initial_system_narration_prompt_int}\\n\\nInitial user narration int prompt:\\n{initial_user_narration_prompt_int}')\n",
        "  # print(f'Final prompt for initial narration with intention:\\n{final_narrint_prompt}')\n",
        "\n",
        "  messages = generate_input_message(initial_system_narration_prompt_int, final_narrint_prompt)\n",
        "  chat_response = chat_completion_request(\n",
        "      messages, model=GPT_MODEL\n",
        "  )\n",
        "\n",
        "  try:\n",
        "    narration_int = chat_response.choices[0].message.content\n",
        "    test_df['narration_int'].iloc[i] = narration_int\n",
        "  except:\n",
        "    narration_int = 'Error'\n",
        "    test_df['narration_int'].iloc[i] = narration_int\n",
        "    continue\n",
        "\n",
        "  # print(f'Narration with intention:\\n{narration_int}')\n",
        "  # print('-'*60, '\\n\\n')\n",
        "  ## ---------------------------------------------------------------------------------------------------------------------\n",
        "\n",
        "  ## ---------------------------------------------------------------------------------------------------------------------\n",
        "  ## GPT-4o call for generate narration revision plan\n",
        "  final_narrint_ver_prompt = f'''{user_narration_verification_prompt_int}\\n### INPUT:\\n### Tables:\\n{tables}\\n### Outline:\\n{final_outline_int}\\n### Data Story:\\n{narration_int}\\n### OUTPUT:'''\n",
        "\n",
        "  # print(f'Initial system narration verification prompt:\\n{system_narration_verification_prompt_int}\\n\\nInitial user narration verification prompt:\\n{user_narration_verification_prompt_int}')\n",
        "  # print(f'Final prompt for narration verification prompt with intention:\\n{final_narrint_ver_prompt}')\n",
        "\n",
        "  messages = generate_input_message(system_narration_verification_prompt_int, final_narrint_ver_prompt)\n",
        "  chat_response = chat_completion_request(\n",
        "      messages, model=GPT_MODEL\n",
        "  )\n",
        "\n",
        "  try:\n",
        "    narration_int_revision_plan = chat_response.choices[0].message.content\n",
        "    test_df['narration_int_revision_plan'].iloc[i] = narration_int_revision_plan\n",
        "  except:\n",
        "    narration_int_revision_plan = 'Error'\n",
        "    test_df['narration_int_revision_plan'].iloc[i] = narration_int_revision_plan\n",
        "    continue\n",
        "\n",
        "  # print(f'Narration with intention revision plan:\\n{narration_int_revision_plan}')\n",
        "  # print('-'*60, '\\n\\n')\n",
        "  ## ---------------------------------------------------------------------------------------------------------------------\n",
        "\n",
        "  ## ---------------------------------------------------------------------------------------------------------------------\n",
        "  ## GPT-4o call for generate narration revision plan\n",
        "  final_narrint_rev_prompt = f'''{user_narration_revision_prompt_int}\\n### INPUT:\\n### Tables:\\n{tables}\\n### Outline:\\n{final_outline_int}\\n### Previous Data Story:\\n{narration_int}\\n### Revision Plan:\\n{narration_int_revision_plan}\\n### OUTPUT:'''\n",
        "\n",
        "  # print(f'Initial system narration revision prompt:\\n{system_narration_revision_prompt_int}\\n\\nInitial user outline prompt:\\n{user_narration_revision_prompt_int}')\n",
        "  # print(f'Final prompt for narration revision prompt with intention:\\n{final_narrint_rev_prompt}')\n",
        "\n",
        "  messages = generate_input_message(system_narration_revision_prompt_int, final_narrint_rev_prompt)\n",
        "  chat_response = chat_completion_request(\n",
        "      messages, model=GPT_MODEL\n",
        "  )\n",
        "\n",
        "  try:\n",
        "    final_narration_int = chat_response.choices[0].message.content\n",
        "    test_df['revised_narration_int'].iloc[i] = final_narration_int\n",
        "  except:\n",
        "    final_narration_int = 'Error'\n",
        "    test_df['revised_narration_int'].iloc[i] = final_narration_int\n",
        "    continue\n",
        "\n",
        "  # print(f'Narration with intention revised:\\n{final_narration_int}')\n",
        "  # print('-'*60, '\\n\\n')\n",
        "  ## ---------------------------------------------------------------------------------------------------------------------\n",
        "\n",
        "  ## xxxxxxxxxxxxxxxxxxxxxxxxxxxxxxxxxxxxxxxxxxxxxxxxxxxxxxxxxxxxxxxxxxxxxxxxxxxxxxxxxxxxxxxxxxxxxxxxxxxxxxxxxxxxxxxxxxxxx\n",
        "\n",
        "  if i%10 == 0 and i!=0:\n",
        "    test_df.to_json(os.path.join(data, f'/path/to/save_dir/stories.json'), orient='records', lines=True)\n",
        "    print(f'Iteration {i} complete, time taken: {time.time()-start}s')\n",
        "    print('-'*50)\n",
        "    start = time.time()\n"
      ],
      "metadata": {
        "id": "lvKfNRAICnZt"
      },
      "execution_count": null,
      "outputs": []
    },
    {
      "cell_type": "code",
      "source": [],
      "metadata": {
        "id": "aBxvGYF3CnWw"
      },
      "execution_count": null,
      "outputs": []
    }
  ],
  "metadata": {
    "colab": {
      "provenance": [],
      "collapsed_sections": [
        "O6u3SRk5oWOL",
        "tngjrAzxp3AG",
        "c_htXecHp69S",
        "5CTpdqoJtsNS",
        "WFfisJ7Ut19U",
        "79R5BErn9iHN"
      ]
    },
    "environment": {
      "kernel": "python3",
      "name": "common-cpu.m113",
      "type": "gcloud",
      "uri": "gcr.io/deeplearning-platform-release/base-cpu:m113"
    },
    "kernelspec": {
      "display_name": "Python 3",
      "language": "python",
      "name": "python3"
    },
    "language_info": {
      "codemirror_mode": {
        "name": "ipython",
        "version": 3
      },
      "file_extension": ".py",
      "mimetype": "text/x-python",
      "name": "python",
      "nbconvert_exporter": "python",
      "pygments_lexer": "ipython3",
      "version": "3.10.13"
    }
  },
  "nbformat": 4,
  "nbformat_minor": 0
}